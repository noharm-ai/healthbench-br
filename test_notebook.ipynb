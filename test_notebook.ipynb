{
 "cells": [
  {
   "cell_type": "markdown",
   "metadata": {},
   "source": [
    "# HealthBench-BR - Teste com 20 Primeiras Perguntas\n",
    "\n",
    "Este notebook testa os modelos ativos configurados em `providers.json` usando as primeiras 20 perguntas do dataset."
   ]
  },
  {
   "cell_type": "code",
   "execution_count": 1,
   "metadata": {},
   "outputs": [
    {
     "name": "stdout",
     "output_type": "stream",
     "text": [
      "\n",
      "🔍 Variáveis carregadas do .env:\n",
      "   AWS_ACCESS_KEY_ID = ❌ Não definida\n",
      "   AWS_SECRET_ACCESS_KEY = ❌ Não definida\n",
      "   AWS_DEFAULT_REGION = ❌ Não definida\n",
      "   AWS_BEARER_TOKEN_BEDROCK = ABSK...\n",
      "   OPENAI_API_KEY = ❌ Não definida\n",
      "   MARITACA_API_KEY = 1000...\n"
     ]
    }
   ],
   "source": [
    "import json\n",
    "import os\n",
    "import sys\n",
    "import asyncio\n",
    "from typing import List, Dict\n",
    "import pandas as pd\n",
    "from datetime import datetime\n",
    "from dotenv import load_dotenv\n",
    "\n",
    "# Carrega variáveis do .env sobrescrevendo as já existentes\n",
    "load_dotenv(override=True)\n",
    "\n",
    "# 🔍 Debug: imprime variáveis sensíveis carregadas (só nomes, não valores)\n",
    "print(\"\\n🔍 Variáveis carregadas do .env:\")\n",
    "for key in [\"AWS_ACCESS_KEY_ID\", \"AWS_SECRET_ACCESS_KEY\", \"AWS_DEFAULT_REGION\", \n",
    "            \"AWS_BEARER_TOKEN_BEDROCK\", \"OPENAI_API_KEY\", \"MARITACA_API_KEY\"]:\n",
    "    value = os.getenv(key)\n",
    "    if value:\n",
    "        masked = value[:4] + \"...\" if len(value) > 8 else \"***\"\n",
    "        print(f\"   {key} = {masked}\")\n",
    "    else:\n",
    "        print(f\"   {key} = ❌ Não definida\")\n",
    "\n",
    "# Add src to path\n",
    "sys.path.insert(0, os.path.dirname(os.path.abspath('.')))\n",
    "\n",
    "from src.config.loader import ProviderConfigItem\n",
    "from src.providers.factory import ProviderFactory\n",
    "from src.dataset.loader import DatasetLoader\n",
    "from src.evaluation.evaluator import Evaluator\n",
    "from src.reports.generator import ReportGenerator, EvaluationResult\n",
    "\n",
    "import logging\n",
    "import importlib\n",
    "\n",
    "# Forçar reload dos módulos\n",
    "import sys\n",
    "modules_to_reload = ['src.providers.maritaca', 'src.providers.base', 'src.evaluation.evaluator']\n",
    "for module in modules_to_reload:\n",
    "    if module in sys.modules:\n",
    "        importlib.reload(sys.modules[module])\n",
    "\n",
    "# Configurar logging DEBUG\n",
    "logging.basicConfig(level=logging.ERROR, force=True)"
   ]
  },
  {
   "cell_type": "markdown",
   "metadata": {},
   "source": [
    "## Configuração dos Providers\n",
    "\n",
    "Carregamos os providers ativos do arquivo `providers.json`."
   ]
  },
  {
   "cell_type": "code",
   "execution_count": 2,
   "metadata": {},
   "outputs": [
    {
     "name": "stdout",
     "output_type": "stream",
     "text": [
      "Providers candidatos encontrados: 3\n",
      "\n",
      "🔍 Validando MedGemma-27B-Q8 (ollama: jwang580/medgemma_27b_q8_0:latest)...\n",
      "      ✅ Conectividade com Ollama OK\n",
      "      ✅ Modelo 'jwang580/medgemma_27b_q8_0:latest' disponível localmente\n",
      "   ✅ MedGemma-27B-Q8 - Configuração válida\n",
      "\n",
      "🔍 Validando Claude-Sonnet-4-Bedrock (aws_bedrock: global.anthropic.claude-sonnet-4-20250514-v1:0)...\n",
      "      ✅ Variável de ambiente AWS_BEARER_TOKEN_BEDROCK encontrada\n",
      "      ✅ Bearer token configurado para Bedrock\n",
      "   ✅ Claude-Sonnet-4-Bedrock - Configuração válida\n",
      "\n",
      "🔍 Validando Maritaca-Sabiazinho-3 (maritaca: sabiazinho-3)...\n",
      "      ✅ Variável de ambiente MARITACA_API_KEY encontrada\n",
      "      ✅ Conectividade com Maritaca OK\n",
      "   ✅ Maritaca-Sabiazinho-3 - Configuração válida\n",
      "\n",
      "📊 Resumo da validação:\n",
      "   Providers candidatos: 3\n",
      "   Providers válidos: 3\n",
      "\n",
      "✅ Providers prontos para teste:\n",
      "   - MedGemma-27B-Q8 (ollama: jwang580/medgemma_27b_q8_0:latest)\n",
      "   - Claude-Sonnet-4-Bedrock (aws_bedrock: global.anthropic.claude-sonnet-4-20250514-v1:0)\n",
      "   - Maritaca-Sabiazinho-3 (maritaca: sabiazinho-3)\n"
     ]
    }
   ],
   "source": [
    "def load_active_providers(providers_file: str = \"providers.json\") -> List[Dict]:\n",
    "    \"\"\"Load active providers from JSON configuration file with environment and connectivity checks\"\"\"\n",
    "    with open(providers_file, 'r', encoding='utf-8') as f:\n",
    "        config = json.load(f)\n",
    "    \n",
    "    # Filter only active providers\n",
    "    candidate_providers = [p for p in config['providers'] if p.get('active', False)]\n",
    "    \n",
    "    print(f\"Providers candidatos encontrados: {len(candidate_providers)}\")\n",
    "    \n",
    "    validated_providers = []\n",
    "    \n",
    "    for provider in candidate_providers:\n",
    "        print(f\"\\n🔍 Validando {provider['name']} ({provider['type']}: {provider['model']})...\")\n",
    "        \n",
    "        # Check environment variables and connectivity\n",
    "        is_valid = validate_provider_config(provider)\n",
    "        \n",
    "        if is_valid:\n",
    "            validated_providers.append(provider)\n",
    "            print(f\"   ✅ {provider['name']} - Configuração válida\")\n",
    "        else:\n",
    "            print(f\"   ❌ {provider['name']} - Configuração inválida (será ignorado)\")\n",
    "    \n",
    "    print(f\"\\n📊 Resumo da validação:\")\n",
    "    print(f\"   Providers candidatos: {len(candidate_providers)}\")\n",
    "    print(f\"   Providers válidos: {len(validated_providers)}\")\n",
    "    \n",
    "    if validated_providers:\n",
    "        print(f\"\\n✅ Providers prontos para teste:\")\n",
    "        for provider in validated_providers:\n",
    "            print(f\"   - {provider['name']} ({provider['type']}: {provider['model']})\")\n",
    "    \n",
    "    return validated_providers, config['default_settings']\n",
    "\n",
    "\n",
    "def validate_provider_config(provider: Dict) -> bool:\n",
    "    \"\"\"Validate provider configuration including environment variables and connectivity\"\"\"\n",
    "    provider_type = provider['type']\n",
    "    \n",
    "    try:\n",
    "        # Check environment variables based on provider type\n",
    "        if provider_type == 'openai':\n",
    "            return validate_openai_config(provider)\n",
    "        elif provider_type == 'maritaca':\n",
    "            return validate_maritaca_config(provider)\n",
    "        elif provider_type == 'ollama':\n",
    "            return validate_ollama_config(provider)\n",
    "        elif provider_type == 'aws_bedrock':\n",
    "            return validate_bedrock_config(provider)\n",
    "        else:\n",
    "            print(f\"      ⚠️ Tipo de provider desconhecido: {provider_type}\")\n",
    "            return False\n",
    "            \n",
    "    except Exception as e:\n",
    "        print(f\"      ❌ Erro na validação: {e}\")\n",
    "        return False\n",
    "\n",
    "\n",
    "def validate_openai_config(provider: Dict) -> bool:\n",
    "    \"\"\"Validate OpenAI provider configuration\"\"\"\n",
    "    api_key = provider.get('api_key', '')\n",
    "    \n",
    "    # Resolve environment variable\n",
    "    if api_key.startswith('${') and api_key.endswith('}'):\n",
    "        env_var = api_key[2:-1]\n",
    "        actual_key = os.getenv(env_var)\n",
    "        if not actual_key:\n",
    "            print(f\"      ❌ Variável de ambiente {env_var} não encontrada\")\n",
    "            return False\n",
    "        print(f\"      ✅ Variável de ambiente {env_var} encontrada\")\n",
    "    elif not api_key:\n",
    "        print(f\"      ❌ API key não configurada\")\n",
    "        return False\n",
    "    \n",
    "    # Test connectivity (simple check)\n",
    "    base_url = provider.get('base_url', 'https://api.openai.com')\n",
    "    try:\n",
    "        import requests\n",
    "        response = requests.get(f\"{base_url}/v1/models\", timeout=10, headers={\n",
    "            'Authorization': f\"Bearer {actual_key if 'actual_key' in locals() else 'test'}\"\n",
    "        })\n",
    "        if response.status_code in [200, 401]:  # 401 means auth failed but service is reachable\n",
    "            print(f\"      ✅ Conectividade com OpenAI OK\")\n",
    "            return True\n",
    "        else:\n",
    "            print(f\"      ⚠️ Resposta inesperada da API: {response.status_code}\")\n",
    "            return False\n",
    "    except Exception as e:\n",
    "        print(f\"      ⚠️ Não foi possível testar conectividade: {e}\")\n",
    "        return True  # Allow to proceed anyway\n",
    "\n",
    "\n",
    "def validate_ollama_config(provider: Dict) -> bool:\n",
    "    \"\"\"Validate Ollama provider configuration\"\"\"\n",
    "    base_url = provider.get('base_url', 'http://localhost:11434')\n",
    "    model = provider.get('model', '')\n",
    "    \n",
    "    try:\n",
    "        import requests\n",
    "        # Testa a conexão básica\n",
    "        response = requests.get(f\"{base_url}/api/tags\", timeout=10)\n",
    "        if response.status_code == 200:\n",
    "            print(f\"      ✅ Conectividade com Ollama OK\")\n",
    "        else:\n",
    "            print(f\"      ⚠️ Resposta inesperada da API Ollama: {response.status_code}\")\n",
    "            return False\n",
    "\n",
    "        # Testa se o modelo especificado existe localmente\n",
    "        tags = response.json().get('models', [])\n",
    "        model_names = [m.get('name', '') for m in tags]\n",
    "        if model and not any(model in name for name in model_names):\n",
    "            print(f\"      ⚠️ Modelo '{model}' não encontrado entre os disponíveis: {model_names}\")\n",
    "            return False\n",
    "        \n",
    "        print(f\"      ✅ Modelo '{model}' disponível localmente\")\n",
    "        return True\n",
    "\n",
    "    except requests.ConnectionError:\n",
    "        print(f\"      ❌ Não foi possível conectar ao Ollama em {base_url}\")\n",
    "        print(\"      💡 Verifique se o serviço está em execução (ex: `ollama serve` ou container ativo)\")\n",
    "        return False\n",
    "    except Exception as e:\n",
    "        print(f\"      ⚠️ Erro durante validação do Ollama: {e}\")\n",
    "        return True  # Permite continuar mesmo se falhar no teste\n",
    "\n",
    "\n",
    "def validate_maritaca_config(provider: Dict) -> bool:\n",
    "    \"\"\"Validate Maritaca provider configuration\"\"\"\n",
    "    api_key = provider.get('api_key', '')\n",
    "\n",
    "    # Resolve environment variable\n",
    "    if api_key.startswith('${') and api_key.endswith('}'):\n",
    "        env_var = api_key[2:-1]\n",
    "        actual_key = os.getenv(env_var)\n",
    "        if not actual_key:\n",
    "            print(f\"      ❌ Variável de ambiente {env_var} não encontrada\")\n",
    "            return False\n",
    "        print(f\"      ✅ Variável de ambiente {env_var} encontrada\")\n",
    "    elif not api_key:\n",
    "        print(f\"      ❌ API key não configurada\")\n",
    "        return False\n",
    "\n",
    "    # Test connectivity with the models endpoint\n",
    "    base_url = provider.get('base_url', 'https://chat.maritaca.ai/api')\n",
    "    try:\n",
    "        import requests\n",
    "        response = requests.get(f\"{base_url}/models\", timeout=10, headers={\n",
    "            'Authorization': f'Bearer {actual_key if \"actual_key\" in locals() else api_key}'\n",
    "        })\n",
    "        if response.status_code in [200, 401]:  # 401 means auth failed but service is reachable\n",
    "            print(f\"      ✅ Conectividade com Maritaca OK\")\n",
    "            return True\n",
    "        else:\n",
    "            print(f\"      ⚠️ Resposta inesperada da API: {response.status_code}\")\n",
    "            return False\n",
    "    except Exception as e:\n",
    "        print(f\"      ⚠️ Não foi possível testar conectividade: {e}\")\n",
    "        return True  # Allow to proceed anyway\n",
    "\n",
    "\n",
    "def validate_bedrock_config(provider: Dict) -> bool:\n",
    "    \"\"\"Validate AWS Bedrock provider configuration\"\"\"\n",
    "    bearer_token = provider.get('aws_bearer_token', '')\n",
    "    region = provider.get('region', 'us-east-1')\n",
    "    \n",
    "    # Check bearer token environment variable\n",
    "    if bearer_token.startswith('${') and bearer_token.endswith('}'):\n",
    "        env_var = bearer_token[2:-1]\n",
    "        actual_token = os.getenv(env_var)\n",
    "        if not actual_token:\n",
    "            print(f\"      ❌ Variável de ambiente {env_var} não encontrada\")\n",
    "            return False\n",
    "        print(f\"      ✅ Variável de ambiente {env_var} encontrada\")\n",
    "\n",
    "        # Se o bearer token existe, já é suficiente\n",
    "        os.environ['AWS_BEARER_TOKEN_BEDROCK'] = actual_token\n",
    "        print(f\"      ✅ Bearer token configurado para Bedrock\")\n",
    "        return True   # ← retorno antecipado se token está ok\n",
    "    \n",
    "    # Caso não exista bearer token, verifica credenciais tradicionais\n",
    "    aws_access_key = os.getenv('AWS_ACCESS_KEY_ID')\n",
    "    aws_secret_key = os.getenv('AWS_SECRET_ACCESS_KEY')\n",
    "    \n",
    "    if not aws_access_key and not aws_secret_key:\n",
    "        print(f\"      ⚠️ Credenciais AWS não encontradas no ambiente\")\n",
    "        print(f\"      💡 Tentando usar perfil padrão AWS...\")\n",
    "        \n",
    "        try:\n",
    "            import boto3\n",
    "            session = boto3.Session()\n",
    "            credentials = session.get_credentials()\n",
    "            if credentials:\n",
    "                print(f\"      ✅ Credenciais AWS encontradas no perfil\")\n",
    "                return True\n",
    "            else:\n",
    "                print(f\"      ❌ Nenhuma credencial AWS disponível\")\n",
    "                return False\n",
    "        except Exception as e:\n",
    "            print(f\"      ❌ Erro ao verificar credenciais AWS: {e}\")\n",
    "            return False\n",
    "    else:\n",
    "        print(f\"      ✅ Credenciais AWS encontradas no ambiente\")\n",
    "        return True\n",
    "\n",
    "\n",
    "# Load providers with validation\n",
    "active_providers, default_settings = load_active_providers()\n",
    "\n",
    "if not active_providers:\n",
    "    raise ValueError(\"\\n❌ Nenhum provider válido encontrado!\\n\\n\" +\n",
    "                    \"💡 Possíveis soluções:\\n\" +\n",
    "                    \"   1. Verifique as variáveis de ambiente necessárias\\n\" +\n",
    "                    \"   2. Certifique-se de que o Ollama está executando (se aplicável)\\n\" +\n",
    "                    \"   3. Configure as credenciais AWS (se aplicável)\\n\" +\n",
    "                    \"   4. Verifique as configurações em providers.json\")"
   ]
  },
  {
   "cell_type": "markdown",
   "metadata": {},
   "source": [
    "## Carregamento do Dataset\n",
    "\n",
    "Carregamos apenas as primeiras 20 perguntas do dataset para teste."
   ]
  },
  {
   "cell_type": "code",
   "execution_count": 3,
   "metadata": {},
   "outputs": [
    {
     "name": "stdout",
     "output_type": "stream",
     "text": [
      "Carregando dataset...\n",
      "Dataset carregado: 50 perguntas (primeiras 20)\n",
      "Arquivos únicos: 5\n",
      "Títulos únicos: 5\n",
      "\n",
      "Exemplo de perguntas:\n",
      "\n",
      "1. [V_PCDT_-_Vasculite__-_Atualizado.pdf] Protocolo clínico e diretrizes terapêuticas da vasculite associada aos anticorpos anti-citoplasma de neutrófilos\n",
      "   Pergunta: No que diz respeito ao protocolo clínico \"Protocolo Clínico e Diretrizes Terapêuticas da Vasculite A...\n",
      "   Resposta esperada: Verdadeiro\n",
      "\n",
      "2. [V_PCDT_-_Vasculite__-_Atualizado.pdf] Protocolo clínico e diretrizes terapêuticas da vasculite associada aos anticorpos anti-citoplasma de neutrófilos\n",
      "   Pergunta: No que diz respeito ao protocolo clínico \"Protocolo Clínico e Diretrizes Terapêuticas da Vasculite A...\n",
      "   Resposta esperada: Falso\n",
      "\n",
      "3. [V_PCDT_-_Vasculite__-_Atualizado.pdf] Protocolo clínico e diretrizes terapêuticas da vasculite associada aos anticorpos anti-citoplasma de neutrófilos\n",
      "   Pergunta: No que diz respeito ao protocolo clínico \"Protocolo Clínico e Diretrizes Terapêuticas da Vasculite A...\n",
      "   Resposta esperada: Verdadeiro\n"
     ]
    }
   ],
   "source": [
    "# Load dataset (first 20 questions)\n",
    "print(\"Carregando dataset...\")\n",
    "dataset = DatasetLoader.load_dataset(\"benchmark_perguntas_unificado.json\")\n",
    "test_dataset = dataset[:50]  # Only first 20 questions\n",
    "\n",
    "print(f\"Dataset carregado: {len(test_dataset)} perguntas (primeiras 20)\")\n",
    "print(f\"Arquivos únicos: {len(set(q.arquivo for q in test_dataset))}\")\n",
    "print(f\"Títulos únicos: {len(set(q.titulo for q in test_dataset))}\")\n",
    "\n",
    "# Show sample questions\n",
    "print(\"\\nExemplo de perguntas:\")\n",
    "for i, question in enumerate(test_dataset[:3]):\n",
    "    print(f\"\\n{i+1}. [{question.arquivo}] {question.titulo}\")\n",
    "    print(f\"   Pergunta: {question.pergunta[:100]}...\")\n",
    "    print(f\"   Resposta esperada: {question.esperado}\")"
   ]
  },
  {
   "cell_type": "markdown",
   "metadata": {},
   "source": [
    "## Função para Criar Providers\n",
    "\n",
    "Função auxiliar para instanciar providers baseado na configuração."
   ]
  },
  {
   "cell_type": "code",
   "execution_count": 4,
   "metadata": {},
   "outputs": [
    {
     "name": "stdout",
     "output_type": "stream",
     "text": [
      "Função create_provider_from_config definida.\n"
     ]
    }
   ],
   "source": [
    "def create_provider_from_config(provider_config: Dict):\n",
    "    \"\"\"Create a provider instance from configuration\"\"\"\n",
    "    \n",
    "    # ✅ Criar ProviderConfigItem corretamente\n",
    "    config_item = ProviderConfigItem(\n",
    "        name=provider_config['name'],\n",
    "        type=provider_config['type'],\n",
    "        model=provider_config['model'],\n",
    "        api_key=provider_config.get('api_key'),\n",
    "        base_url=provider_config.get('base_url'),\n",
    "        temperature=provider_config.get('temperature', 0.0),\n",
    "        max_tokens=provider_config.get('max_tokens', 12000),\n",
    "        timeout=provider_config.get('timeout', 120),\n",
    "        region=provider_config.get('region', 'us-east-1'),\n",
    "        aws_bearer_token=provider_config.get('aws_bearer_token'),\n",
    "        extra_params=provider_config.get('extra_params', {})\n",
    "    )\n",
    "    \n",
    "    # ✅ Usar ProviderFactory.create_from_config corretamente\n",
    "    factory = ProviderFactory()\n",
    "    return factory.create_from_config(config_item)\n",
    "\n",
    "print(\"Função create_provider_from_config definida.\")"
   ]
  },
  {
   "cell_type": "markdown",
   "metadata": {},
   "source": [
    "## Execução dos Testes\n",
    "\n",
    "Executamos a avaliação para cada provider ativo."
   ]
  },
  {
   "cell_type": "code",
   "execution_count": 5,
   "metadata": {},
   "outputs": [
    {
     "name": "stdout",
     "output_type": "stream",
     "text": [
      "Função run_evaluation_for_provider definida.\n"
     ]
    }
   ],
   "source": [
    "async def run_evaluation_for_provider(provider_config: Dict, dataset: List, parallelism: int = 3):\n",
    "    \"\"\"Run evaluation for a single provider\"\"\"\n",
    "    print(f\"\\n{'='*60}\")\n",
    "    print(f\"Testando: {provider_config['name']} ({provider_config['model']})\")\n",
    "    print(f\"{'='*60}\")\n",
    "    \n",
    "    try:\n",
    "        # Create provider\n",
    "        provider = create_provider_from_config(provider_config)\n",
    "        \n",
    "        # Create evaluator with reduced parallelism for testing\n",
    "        evaluator = Evaluator(provider, parallelism=parallelism)\n",
    "        \n",
    "        # Run evaluation\n",
    "        start_time = datetime.now()\n",
    "        results = await evaluator.evaluate(dataset, show_progress=True)\n",
    "        end_time = datetime.now()\n",
    "        \n",
    "        # Calculate metrics\n",
    "        total = len(results)\n",
    "        correct = sum(1 for r in results if r.correta)\n",
    "        accuracy = correct / total if total > 0 else 0\n",
    "        duration = (end_time - start_time).total_seconds()\n",
    "        \n",
    "        print(f\"\\n📊 Resultados para {provider_config['name']}:\")\n",
    "        print(f\"   Total de perguntas: {total}\")\n",
    "        print(f\"   Acertos: {correct}\")\n",
    "        print(f\"   Acurácia: {accuracy:.2%}\")\n",
    "        print(f\"   Tempo: {duration:.1f}s\")\n",
    "        \n",
    "        return {\n",
    "            'provider_name': provider_config['name'],\n",
    "            'provider_type': provider_config['type'],\n",
    "            'model': provider_config['model'],\n",
    "            'total': total,\n",
    "            'correct': correct,\n",
    "            'accuracy': accuracy,\n",
    "            'duration_seconds': duration,\n",
    "            'results': results\n",
    "        }\n",
    "        \n",
    "    except Exception as e:\n",
    "        print(f\"❌ Erro ao testar {provider_config['name']}: {e}\")\n",
    "        import traceback\n",
    "        traceback.print_exc()\n",
    "        return None\n",
    "\n",
    "print(\"Função run_evaluation_for_provider definida.\")"
   ]
  },
  {
   "cell_type": "markdown",
   "metadata": {},
   "source": [
    "## Execução dos Testes para Todos os Providers Ativos"
   ]
  },
  {
   "cell_type": "code",
   "execution_count": 6,
   "metadata": {},
   "outputs": [
    {
     "name": "stdout",
     "output_type": "stream",
     "text": [
      "\n",
      "============================================================\n",
      "Testando: MedGemma-27B-Q8 (jwang580/medgemma_27b_q8_0:latest)\n",
      "============================================================\n",
      "Total de perguntas a avaliar: 50\n"
     ]
    },
    {
     "name": "stderr",
     "output_type": "stream",
     "text": [
      "Batch 1:   0%|                                                                               | 0/3 [00:00<?, ?it/s]/Users/filipelopes/Desktop/Development/notebooks/noharm-maritaca/healthbench-br/src/providers/ollama.py:16: LangChainDeprecationWarning: The class `Ollama` was deprecated in LangChain 0.3.1 and will be removed in 1.0.0. An updated version of the class exists in the :class:`~langchain-ollama package and should be used instead. To use it run `pip install -U :class:`~langchain-ollama` and import as `from :class:`~langchain_ollama import OllamaLLM``.\n",
      "  return Ollama(\n",
      "Batch 1: 100%|███████████████████████████████████████████████████████████████████████| 3/3 [01:09<00:00, 23.17s/it]\n"
     ]
    },
    {
     "name": "stdout",
     "output_type": "stream",
     "text": [
      "Acurácia parcial: 2/3 = 0.667\n"
     ]
    },
    {
     "name": "stderr",
     "output_type": "stream",
     "text": [
      "Batch 2: 100%|███████████████████████████████████████████████████████████████████████| 3/3 [00:44<00:00, 14.80s/it]\n"
     ]
    },
    {
     "name": "stdout",
     "output_type": "stream",
     "text": [
      "Acurácia parcial: 3/6 = 0.500\n"
     ]
    },
    {
     "name": "stderr",
     "output_type": "stream",
     "text": [
      "Batch 3: 100%|███████████████████████████████████████████████████████████████████████| 3/3 [00:35<00:00, 11.90s/it]\n"
     ]
    },
    {
     "name": "stdout",
     "output_type": "stream",
     "text": [
      "Acurácia parcial: 6/9 = 0.667\n"
     ]
    },
    {
     "name": "stderr",
     "output_type": "stream",
     "text": [
      "Batch 4: 100%|███████████████████████████████████████████████████████████████████████| 3/3 [00:26<00:00,  8.97s/it]\n"
     ]
    },
    {
     "name": "stdout",
     "output_type": "stream",
     "text": [
      "Acurácia parcial: 8/12 = 0.667\n"
     ]
    },
    {
     "name": "stderr",
     "output_type": "stream",
     "text": [
      "Batch 5: 100%|███████████████████████████████████████████████████████████████████████| 3/3 [00:48<00:00, 16.24s/it]\n"
     ]
    },
    {
     "name": "stdout",
     "output_type": "stream",
     "text": [
      "Acurácia parcial: 10/15 = 0.667\n"
     ]
    },
    {
     "name": "stderr",
     "output_type": "stream",
     "text": [
      "Batch 6: 100%|███████████████████████████████████████████████████████████████████████| 3/3 [00:41<00:00, 13.97s/it]\n"
     ]
    },
    {
     "name": "stdout",
     "output_type": "stream",
     "text": [
      "Acurácia parcial: 11/18 = 0.611\n"
     ]
    },
    {
     "name": "stderr",
     "output_type": "stream",
     "text": [
      "Batch 7: 100%|███████████████████████████████████████████████████████████████████████| 3/3 [01:00<00:00, 20.04s/it]\n"
     ]
    },
    {
     "name": "stdout",
     "output_type": "stream",
     "text": [
      "Acurácia parcial: 13/21 = 0.619\n"
     ]
    },
    {
     "name": "stderr",
     "output_type": "stream",
     "text": [
      "Batch 8: 100%|███████████████████████████████████████████████████████████████████████| 3/3 [00:42<00:00, 14.18s/it]\n"
     ]
    },
    {
     "name": "stdout",
     "output_type": "stream",
     "text": [
      "Acurácia parcial: 16/24 = 0.667\n"
     ]
    },
    {
     "name": "stderr",
     "output_type": "stream",
     "text": [
      "Batch 9: 100%|███████████████████████████████████████████████████████████████████████| 3/3 [00:39<00:00, 13.21s/it]\n"
     ]
    },
    {
     "name": "stdout",
     "output_type": "stream",
     "text": [
      "Acurácia parcial: 17/27 = 0.630\n"
     ]
    },
    {
     "name": "stderr",
     "output_type": "stream",
     "text": [
      "Batch 10: 100%|██████████████████████████████████████████████████████████████████████| 3/3 [00:31<00:00, 10.42s/it]\n"
     ]
    },
    {
     "name": "stdout",
     "output_type": "stream",
     "text": [
      "Acurácia parcial: 19/30 = 0.633\n"
     ]
    },
    {
     "name": "stderr",
     "output_type": "stream",
     "text": [
      "Batch 11: 100%|██████████████████████████████████████████████████████████████████████| 3/3 [00:49<00:00, 16.56s/it]\n"
     ]
    },
    {
     "name": "stdout",
     "output_type": "stream",
     "text": [
      "Acurácia parcial: 21/33 = 0.636\n"
     ]
    },
    {
     "name": "stderr",
     "output_type": "stream",
     "text": [
      "Batch 12: 100%|██████████████████████████████████████████████████████████████████████| 3/3 [00:28<00:00,  9.58s/it]\n"
     ]
    },
    {
     "name": "stdout",
     "output_type": "stream",
     "text": [
      "Acurácia parcial: 22/36 = 0.611\n"
     ]
    },
    {
     "name": "stderr",
     "output_type": "stream",
     "text": [
      "Batch 13: 100%|██████████████████████████████████████████████████████████████████████| 3/3 [00:50<00:00, 16.95s/it]\n"
     ]
    },
    {
     "name": "stdout",
     "output_type": "stream",
     "text": [
      "Acurácia parcial: 24/39 = 0.615\n"
     ]
    },
    {
     "name": "stderr",
     "output_type": "stream",
     "text": [
      "Batch 14: 100%|██████████████████████████████████████████████████████████████████████| 3/3 [00:54<00:00, 18.16s/it]\n"
     ]
    },
    {
     "name": "stdout",
     "output_type": "stream",
     "text": [
      "Acurácia parcial: 25/42 = 0.595\n"
     ]
    },
    {
     "name": "stderr",
     "output_type": "stream",
     "text": [
      "Batch 15: 100%|██████████████████████████████████████████████████████████████████████| 3/3 [00:47<00:00, 15.84s/it]\n"
     ]
    },
    {
     "name": "stdout",
     "output_type": "stream",
     "text": [
      "Acurácia parcial: 27/45 = 0.600\n"
     ]
    },
    {
     "name": "stderr",
     "output_type": "stream",
     "text": [
      "Batch 16: 100%|██████████████████████████████████████████████████████████████████████| 3/3 [00:58<00:00, 19.43s/it]\n"
     ]
    },
    {
     "name": "stdout",
     "output_type": "stream",
     "text": [
      "Acurácia parcial: 28/48 = 0.583\n"
     ]
    },
    {
     "name": "stderr",
     "output_type": "stream",
     "text": [
      "Batch 17: 100%|██████████████████████████████████████████████████████████████████████| 2/2 [00:29<00:00, 14.91s/it]\n"
     ]
    },
    {
     "name": "stdout",
     "output_type": "stream",
     "text": [
      "Acurácia parcial: 29/50 = 0.580\n",
      "\n",
      "📊 Resultados para MedGemma-27B-Q8:\n",
      "   Total de perguntas: 50\n",
      "   Acertos: 29\n",
      "   Acurácia: 58.00%\n",
      "   Tempo: 760.1s\n",
      "\n",
      "============================================================\n",
      "Testando: Claude-Sonnet-4-Bedrock (global.anthropic.claude-sonnet-4-20250514-v1:0)\n",
      "============================================================\n",
      "Total de perguntas a avaliar: 50\n"
     ]
    },
    {
     "name": "stderr",
     "output_type": "stream",
     "text": [
      "Batch 1: 100%|███████████████████████████████████████████████████████████████████████| 3/3 [00:11<00:00,  4.00s/it]\n"
     ]
    },
    {
     "name": "stdout",
     "output_type": "stream",
     "text": [
      "Acurácia parcial: 3/3 = 1.000\n"
     ]
    },
    {
     "name": "stderr",
     "output_type": "stream",
     "text": [
      "Batch 2: 100%|███████████████████████████████████████████████████████████████████████| 3/3 [00:07<00:00,  2.45s/it]\n"
     ]
    },
    {
     "name": "stdout",
     "output_type": "stream",
     "text": [
      "Acurácia parcial: 6/6 = 1.000\n"
     ]
    },
    {
     "name": "stderr",
     "output_type": "stream",
     "text": [
      "Batch 3: 100%|███████████████████████████████████████████████████████████████████████| 3/3 [00:04<00:00,  1.58s/it]\n"
     ]
    },
    {
     "name": "stdout",
     "output_type": "stream",
     "text": [
      "Acurácia parcial: 9/9 = 1.000\n"
     ]
    },
    {
     "name": "stderr",
     "output_type": "stream",
     "text": [
      "Batch 4: 100%|███████████████████████████████████████████████████████████████████████| 3/3 [00:06<00:00,  2.16s/it]\n"
     ]
    },
    {
     "name": "stdout",
     "output_type": "stream",
     "text": [
      "Acurácia parcial: 11/12 = 0.917\n"
     ]
    },
    {
     "name": "stderr",
     "output_type": "stream",
     "text": [
      "Batch 5: 100%|███████████████████████████████████████████████████████████████████████| 3/3 [00:06<00:00,  2.04s/it]\n"
     ]
    },
    {
     "name": "stdout",
     "output_type": "stream",
     "text": [
      "Acurácia parcial: 13/15 = 0.867\n"
     ]
    },
    {
     "name": "stderr",
     "output_type": "stream",
     "text": [
      "Batch 6: 100%|███████████████████████████████████████████████████████████████████████| 3/3 [00:05<00:00,  1.78s/it]\n"
     ]
    },
    {
     "name": "stdout",
     "output_type": "stream",
     "text": [
      "Acurácia parcial: 14/18 = 0.778\n"
     ]
    },
    {
     "name": "stderr",
     "output_type": "stream",
     "text": [
      "Batch 7: 100%|███████████████████████████████████████████████████████████████████████| 3/3 [00:06<00:00,  2.03s/it]\n"
     ]
    },
    {
     "name": "stdout",
     "output_type": "stream",
     "text": [
      "Acurácia parcial: 17/21 = 0.810\n"
     ]
    },
    {
     "name": "stderr",
     "output_type": "stream",
     "text": [
      "Batch 8: 100%|███████████████████████████████████████████████████████████████████████| 3/3 [00:06<00:00,  2.07s/it]\n"
     ]
    },
    {
     "name": "stdout",
     "output_type": "stream",
     "text": [
      "Acurácia parcial: 19/24 = 0.792\n"
     ]
    },
    {
     "name": "stderr",
     "output_type": "stream",
     "text": [
      "Batch 9: 100%|███████████████████████████████████████████████████████████████████████| 3/3 [00:06<00:00,  2.09s/it]\n"
     ]
    },
    {
     "name": "stdout",
     "output_type": "stream",
     "text": [
      "Acurácia parcial: 21/27 = 0.778\n"
     ]
    },
    {
     "name": "stderr",
     "output_type": "stream",
     "text": [
      "Batch 10: 100%|██████████████████████████████████████████████████████████████████████| 3/3 [00:05<00:00,  1.99s/it]\n"
     ]
    },
    {
     "name": "stdout",
     "output_type": "stream",
     "text": [
      "Acurácia parcial: 23/30 = 0.767\n"
     ]
    },
    {
     "name": "stderr",
     "output_type": "stream",
     "text": [
      "Batch 11: 100%|██████████████████████████████████████████████████████████████████████| 3/3 [00:06<00:00,  2.11s/it]\n"
     ]
    },
    {
     "name": "stdout",
     "output_type": "stream",
     "text": [
      "Acurácia parcial: 25/33 = 0.758\n"
     ]
    },
    {
     "name": "stderr",
     "output_type": "stream",
     "text": [
      "Batch 12: 100%|██████████████████████████████████████████████████████████████████████| 3/3 [00:06<00:00,  2.15s/it]\n"
     ]
    },
    {
     "name": "stdout",
     "output_type": "stream",
     "text": [
      "Acurácia parcial: 27/36 = 0.750\n"
     ]
    },
    {
     "name": "stderr",
     "output_type": "stream",
     "text": [
      "Batch 13: 100%|██████████████████████████████████████████████████████████████████████| 3/3 [00:05<00:00,  1.95s/it]\n"
     ]
    },
    {
     "name": "stdout",
     "output_type": "stream",
     "text": [
      "Acurácia parcial: 30/39 = 0.769\n"
     ]
    },
    {
     "name": "stderr",
     "output_type": "stream",
     "text": [
      "Batch 14: 100%|██████████████████████████████████████████████████████████████████████| 3/3 [00:07<00:00,  2.38s/it]\n"
     ]
    },
    {
     "name": "stdout",
     "output_type": "stream",
     "text": [
      "Acurácia parcial: 33/42 = 0.786\n"
     ]
    },
    {
     "name": "stderr",
     "output_type": "stream",
     "text": [
      "Batch 15: 100%|██████████████████████████████████████████████████████████████████████| 3/3 [00:06<00:00,  2.13s/it]\n"
     ]
    },
    {
     "name": "stdout",
     "output_type": "stream",
     "text": [
      "Acurácia parcial: 34/45 = 0.756\n"
     ]
    },
    {
     "name": "stderr",
     "output_type": "stream",
     "text": [
      "Batch 16: 100%|██████████████████████████████████████████████████████████████████████| 3/3 [00:08<00:00,  2.71s/it]\n"
     ]
    },
    {
     "name": "stdout",
     "output_type": "stream",
     "text": [
      "Acurácia parcial: 35/48 = 0.729\n"
     ]
    },
    {
     "name": "stderr",
     "output_type": "stream",
     "text": [
      "Batch 17: 100%|██████████████████████████████████████████████████████████████████████| 2/2 [00:06<00:00,  3.17s/it]\n"
     ]
    },
    {
     "name": "stdout",
     "output_type": "stream",
     "text": [
      "Acurácia parcial: 37/50 = 0.740\n",
      "\n",
      "📊 Resultados para Claude-Sonnet-4-Bedrock:\n",
      "   Total de perguntas: 50\n",
      "   Acertos: 37\n",
      "   Acurácia: 74.00%\n",
      "   Tempo: 113.2s\n",
      "\n",
      "============================================================\n",
      "Testando: Maritaca-Sabiazinho-3 (sabiazinho-3)\n",
      "============================================================\n",
      "Total de perguntas a avaliar: 50\n"
     ]
    },
    {
     "name": "stderr",
     "output_type": "stream",
     "text": [
      "Batch 1: 100%|███████████████████████████████████████████████████████████████████████| 3/3 [00:00<00:00,  3.05it/s]\n"
     ]
    },
    {
     "name": "stdout",
     "output_type": "stream",
     "text": [
      "Acurácia parcial: 2/3 = 0.667\n"
     ]
    },
    {
     "name": "stderr",
     "output_type": "stream",
     "text": [
      "Batch 2: 100%|███████████████████████████████████████████████████████████████████████| 3/3 [00:00<00:00,  7.78it/s]\n"
     ]
    },
    {
     "name": "stdout",
     "output_type": "stream",
     "text": [
      "Acurácia parcial: 5/6 = 0.833\n"
     ]
    },
    {
     "name": "stderr",
     "output_type": "stream",
     "text": [
      "Batch 3: 100%|███████████████████████████████████████████████████████████████████████| 3/3 [00:00<00:00,  7.74it/s]\n"
     ]
    },
    {
     "name": "stdout",
     "output_type": "stream",
     "text": [
      "Acurácia parcial: 7/9 = 0.778\n"
     ]
    },
    {
     "name": "stderr",
     "output_type": "stream",
     "text": [
      "Batch 4: 100%|███████████████████████████████████████████████████████████████████████| 3/3 [00:00<00:00,  8.26it/s]\n"
     ]
    },
    {
     "name": "stdout",
     "output_type": "stream",
     "text": [
      "Acurácia parcial: 8/12 = 0.667\n"
     ]
    },
    {
     "name": "stderr",
     "output_type": "stream",
     "text": [
      "Batch 5: 100%|███████████████████████████████████████████████████████████████████████| 3/3 [00:00<00:00,  7.66it/s]\n"
     ]
    },
    {
     "name": "stdout",
     "output_type": "stream",
     "text": [
      "Acurácia parcial: 10/15 = 0.667\n"
     ]
    },
    {
     "name": "stderr",
     "output_type": "stream",
     "text": [
      "Batch 6: 100%|███████████████████████████████████████████████████████████████████████| 3/3 [00:00<00:00,  8.41it/s]\n"
     ]
    },
    {
     "name": "stdout",
     "output_type": "stream",
     "text": [
      "Acurácia parcial: 12/18 = 0.667\n"
     ]
    },
    {
     "name": "stderr",
     "output_type": "stream",
     "text": [
      "Batch 7: 100%|███████████████████████████████████████████████████████████████████████| 3/3 [00:00<00:00,  8.40it/s]\n"
     ]
    },
    {
     "name": "stdout",
     "output_type": "stream",
     "text": [
      "Acurácia parcial: 14/21 = 0.667\n"
     ]
    },
    {
     "name": "stderr",
     "output_type": "stream",
     "text": [
      "Batch 8: 100%|███████████████████████████████████████████████████████████████████████| 3/3 [00:00<00:00,  7.39it/s]\n"
     ]
    },
    {
     "name": "stdout",
     "output_type": "stream",
     "text": [
      "Acurácia parcial: 16/24 = 0.667\n"
     ]
    },
    {
     "name": "stderr",
     "output_type": "stream",
     "text": [
      "Batch 9: 100%|███████████████████████████████████████████████████████████████████████| 3/3 [00:00<00:00, 10.05it/s]\n"
     ]
    },
    {
     "name": "stdout",
     "output_type": "stream",
     "text": [
      "Acurácia parcial: 17/27 = 0.630\n"
     ]
    },
    {
     "name": "stderr",
     "output_type": "stream",
     "text": [
      "Batch 10: 100%|██████████████████████████████████████████████████████████████████████| 3/3 [00:00<00:00,  7.95it/s]\n"
     ]
    },
    {
     "name": "stdout",
     "output_type": "stream",
     "text": [
      "Acurácia parcial: 19/30 = 0.633\n"
     ]
    },
    {
     "name": "stderr",
     "output_type": "stream",
     "text": [
      "Batch 11: 100%|██████████████████████████████████████████████████████████████████████| 3/3 [00:00<00:00, 10.03it/s]\n"
     ]
    },
    {
     "name": "stdout",
     "output_type": "stream",
     "text": [
      "Acurácia parcial: 21/33 = 0.636\n"
     ]
    },
    {
     "name": "stderr",
     "output_type": "stream",
     "text": [
      "Batch 12: 100%|██████████████████████████████████████████████████████████████████████| 3/3 [00:00<00:00,  8.52it/s]\n"
     ]
    },
    {
     "name": "stdout",
     "output_type": "stream",
     "text": [
      "Acurácia parcial: 23/36 = 0.639\n"
     ]
    },
    {
     "name": "stderr",
     "output_type": "stream",
     "text": [
      "Batch 13: 100%|██████████████████████████████████████████████████████████████████████| 3/3 [00:00<00:00,  8.06it/s]\n"
     ]
    },
    {
     "name": "stdout",
     "output_type": "stream",
     "text": [
      "Acurácia parcial: 25/39 = 0.641\n"
     ]
    },
    {
     "name": "stderr",
     "output_type": "stream",
     "text": [
      "Batch 14: 100%|██████████████████████████████████████████████████████████████████████| 3/3 [00:00<00:00, 10.02it/s]\n"
     ]
    },
    {
     "name": "stdout",
     "output_type": "stream",
     "text": [
      "Acurácia parcial: 27/42 = 0.643\n"
     ]
    },
    {
     "name": "stderr",
     "output_type": "stream",
     "text": [
      "Batch 15: 100%|██████████████████████████████████████████████████████████████████████| 3/3 [00:00<00:00,  8.02it/s]\n"
     ]
    },
    {
     "name": "stdout",
     "output_type": "stream",
     "text": [
      "Acurácia parcial: 29/45 = 0.644\n"
     ]
    },
    {
     "name": "stderr",
     "output_type": "stream",
     "text": [
      "Batch 16: 100%|██████████████████████████████████████████████████████████████████████| 3/3 [00:00<00:00,  8.53it/s]\n"
     ]
    },
    {
     "name": "stdout",
     "output_type": "stream",
     "text": [
      "Acurácia parcial: 30/48 = 0.625\n"
     ]
    },
    {
     "name": "stderr",
     "output_type": "stream",
     "text": [
      "Batch 17: 100%|██████████████████████████████████████████████████████████████████████| 2/2 [00:00<00:00,  6.30it/s]"
     ]
    },
    {
     "name": "stdout",
     "output_type": "stream",
     "text": [
      "Acurácia parcial: 31/50 = 0.620\n",
      "\n",
      "📊 Resultados para Maritaca-Sabiazinho-3:\n",
      "   Total de perguntas: 50\n",
      "   Acertos: 31\n",
      "   Acurácia: 62.00%\n",
      "   Tempo: 6.7s\n",
      "\n",
      "🎉 Testes concluídos! 3 providers testados com sucesso.\n"
     ]
    },
    {
     "name": "stderr",
     "output_type": "stream",
     "text": [
      "\n"
     ]
    }
   ],
   "source": [
    "# Run tests for all active providers\n",
    "all_results = []\n",
    "\n",
    "for provider_config in active_providers:\n",
    "    result = await run_evaluation_for_provider(provider_config, test_dataset, parallelism=3)\n",
    "    if result:\n",
    "        all_results.append(result)\n",
    "\n",
    "print(f\"\\n🎉 Testes concluídos! {len(all_results)} providers testados com sucesso.\")"
   ]
  },
  {
   "cell_type": "markdown",
   "metadata": {},
   "source": [
    "## Comparação de Resultados\n",
    "\n",
    "Visualizamos uma tabela comparativa dos resultados."
   ]
  },
  {
   "cell_type": "code",
   "execution_count": 7,
   "metadata": {},
   "outputs": [
    {
     "name": "stdout",
     "output_type": "stream",
     "text": [
      "📋 COMPARAÇÃO DE RESULTADOS\n",
      "================================================================================\n",
      "               Provider        Tipo                                         Modelo  Total  Acertos Acurácia Tempo (s)\n",
      "        MedGemma-27B-Q8      ollama              jwang580/medgemma_27b_q8_0:latest     50       29   58.00%     760.1\n",
      "Claude-Sonnet-4-Bedrock aws_bedrock global.anthropic.claude-sonnet-4-20250514-v1:0     50       37   74.00%     113.2\n",
      "  Maritaca-Sabiazinho-3    maritaca                                   sabiazinho-3     50       31   62.00%       6.7\n",
      "\n",
      "🏆 Melhor desempenho: Claude-Sonnet-4-Bedrock com 74.00% de acurácia\n"
     ]
    }
   ],
   "source": [
    "if all_results:\n",
    "    # Create comparison DataFrame\n",
    "    comparison_data = []\n",
    "    for result in all_results:\n",
    "        comparison_data.append({\n",
    "            'Provider': result['provider_name'],\n",
    "            'Tipo': result['provider_type'],\n",
    "            'Modelo': result['model'],\n",
    "            'Total': result['total'],\n",
    "            'Acertos': result['correct'],\n",
    "            'Acurácia': f\"{result['accuracy']:.2%}\",\n",
    "            'Tempo (s)': f\"{result['duration_seconds']:.1f}\"\n",
    "        })\n",
    "    \n",
    "    comparison_df = pd.DataFrame(comparison_data)\n",
    "    \n",
    "    print(\"📋 COMPARAÇÃO DE RESULTADOS\")\n",
    "    print(\"=\" * 80)\n",
    "    print(comparison_df.to_string(index=False))\n",
    "    \n",
    "    # Find best performer\n",
    "    best_result = max(all_results, key=lambda x: x['accuracy'])\n",
    "    print(f\"\\n🏆 Melhor desempenho: {best_result['provider_name']} com {best_result['accuracy']:.2%} de acurácia\")\n",
    "else:\n",
    "    print(\"❌ Nenhum resultado válido para comparar.\")"
   ]
  },
  {
   "cell_type": "markdown",
   "metadata": {},
   "source": [
    "## Geração de Relatórios Detalhados\n",
    "\n",
    "Geramos relatórios CSV e HTML para cada provider testado."
   ]
  },
  {
   "cell_type": "code",
   "execution_count": 8,
   "metadata": {},
   "outputs": [
    {
     "name": "stdout",
     "output_type": "stream",
     "text": [
      "CSV salvo em: /Users/filipelopes/Desktop/Development/notebooks/noharm-maritaca/healthbench-br/test_results/MedGemma_27B_Q8_20251004_163330.csv\n",
      "Relatório HTML salvo em: /Users/filipelopes/Desktop/Development/notebooks/noharm-maritaca/healthbench-br/test_results/MedGemma_27B_Q8_20251004_163330_report.html\n",
      "📄 Relatórios gerados para MedGemma-27B-Q8:\n",
      "   CSV: ./test_results/MedGemma_27B_Q8_20251004_163330.csv\n",
      "   HTML: ./test_results/MedGemma_27B_Q8_20251004_163330_report.html\n",
      "CSV salvo em: /Users/filipelopes/Desktop/Development/notebooks/noharm-maritaca/healthbench-br/test_results/Claude_Sonnet_4_Bedrock_20251004_163330.csv\n",
      "Relatório HTML salvo em: /Users/filipelopes/Desktop/Development/notebooks/noharm-maritaca/healthbench-br/test_results/Claude_Sonnet_4_Bedrock_20251004_163330_report.html\n",
      "📄 Relatórios gerados para Claude-Sonnet-4-Bedrock:\n",
      "   CSV: ./test_results/Claude_Sonnet_4_Bedrock_20251004_163330.csv\n",
      "   HTML: ./test_results/Claude_Sonnet_4_Bedrock_20251004_163330_report.html\n",
      "CSV salvo em: /Users/filipelopes/Desktop/Development/notebooks/noharm-maritaca/healthbench-br/test_results/Maritaca_Sabiazinho_3_20251004_163330.csv\n",
      "Relatório HTML salvo em: /Users/filipelopes/Desktop/Development/notebooks/noharm-maritaca/healthbench-br/test_results/Maritaca_Sabiazinho_3_20251004_163330_report.html\n",
      "📄 Relatórios gerados para Maritaca-Sabiazinho-3:\n",
      "   CSV: ./test_results/Maritaca_Sabiazinho_3_20251004_163330.csv\n",
      "   HTML: ./test_results/Maritaca_Sabiazinho_3_20251004_163330_report.html\n",
      "\n",
      "✅ Todos os relatórios foram gerados com sucesso!\n"
     ]
    }
   ],
   "source": [
    "# Generate detailed reports for each provider\n",
    "for result in all_results:\n",
    "    provider_name = result['provider_name'].replace(' ', '_').replace('-', '_')\n",
    "    timestamp = datetime.now().strftime('%Y%m%d_%H%M%S')\n",
    "    \n",
    "    # CSV report\n",
    "    csv_filename = f\"./test_results/{provider_name}_{timestamp}.csv\"\n",
    "    report_gen = ReportGenerator(output_path=csv_filename)\n",
    "    report_gen.add_results(result['results'])\n",
    "    report_gen.save_csv()\n",
    "    \n",
    "    # HTML report\n",
    "    html_filename = f\"./test_results/{provider_name}_{timestamp}_report.html\"\n",
    "    report_gen.save_html_report(path=html_filename, model_name=result['model'])\n",
    "    \n",
    "    print(f\"📄 Relatórios gerados para {result['provider_name']}:\")\n",
    "    print(f\"   CSV: {csv_filename}\")\n",
    "    print(f\"   HTML: {html_filename}\")\n",
    "\n",
    "print(\"\\n✅ Todos os relatórios foram gerados com sucesso!\")"
   ]
  },
  {
   "cell_type": "markdown",
   "metadata": {},
   "source": [
    "## Análise Detalhada por Categoria\n",
    "\n",
    "Analisamos o desempenho por arquivo e título das questões."
   ]
  },
  {
   "cell_type": "code",
   "execution_count": 9,
   "metadata": {},
   "outputs": [
    {
     "name": "stdout",
     "output_type": "stream",
     "text": [
      "📊 ANÁLISE POR CATEGORIA\n",
      "==================================================\n",
      "\n",
      "MedGemma-27B-Q8 (jwang580/medgemma_27b_q8_0:latest)\n",
      "----------------------------------------\n",
      "Por arquivo:\n",
      "  V_PCDT_-_Vasculite__-_Atualizado.pdf: 70.00% (7/10)\n",
      "  P_Porfirias.pdf: 50.00% (5/10)\n",
      "  R_Rastreamento_-_Câncer_do_Colo_do_Útero.pdf: 70.00% (7/10)\n",
      "  A_PCDT_Escorpionismo.pdf: 50.00% (5/10)\n",
      "  D_Diabete_Insípido.pdf: 50.00% (5/10)\n",
      "\n",
      "Por categoria:\n",
      "  Acidentes escorpiônicos: 50.00% (5/10)\n",
      "  Diretrizes brasileiras para o rastreamento do câncer de colo do útero: Parte I - Rastreamento organizado utilizando testes moleculares para detecção de DNA-HPV oncogênico: 70.00% (7/10)\n",
      "  Protocolo clínico e diretrizes terapêuticas da vasculite associada aos anticorpos anti-citoplasma de neutrófilos: 70.00% (7/10)\n",
      "  Protocolo clínico e diretrizes terapêuticas das porfirias: 50.00% (5/10)\n",
      "  Protocolo clínico e diretrizes terapêuticas do diabete insípido: 50.00% (5/10)\n",
      "\n",
      "Claude-Sonnet-4-Bedrock (global.anthropic.claude-sonnet-4-20250514-v1:0)\n",
      "----------------------------------------\n",
      "Por arquivo:\n",
      "  V_PCDT_-_Vasculite__-_Atualizado.pdf: 100.00% (10/10)\n",
      "  P_Porfirias.pdf: 60.00% (6/10)\n",
      "  R_Rastreamento_-_Câncer_do_Colo_do_Útero.pdf: 70.00% (7/10)\n",
      "  A_PCDT_Escorpionismo.pdf: 80.00% (8/10)\n",
      "  D_Diabete_Insípido.pdf: 60.00% (6/10)\n",
      "\n",
      "Por categoria:\n",
      "  Acidentes escorpiônicos: 80.00% (8/10)\n",
      "  Diretrizes brasileiras para o rastreamento do câncer de colo do útero: Parte I - Rastreamento organizado utilizando testes moleculares para detecção de DNA-HPV oncogênico: 70.00% (7/10)\n",
      "  Protocolo clínico e diretrizes terapêuticas da vasculite associada aos anticorpos anti-citoplasma de neutrófilos: 100.00% (10/10)\n",
      "  Protocolo clínico e diretrizes terapêuticas das porfirias: 60.00% (6/10)\n",
      "  Protocolo clínico e diretrizes terapêuticas do diabete insípido: 60.00% (6/10)\n",
      "\n",
      "Maritaca-Sabiazinho-3 (sabiazinho-3)\n",
      "----------------------------------------\n",
      "Por arquivo:\n",
      "  V_PCDT_-_Vasculite__-_Atualizado.pdf: 80.00% (8/10)\n",
      "  P_Porfirias.pdf: 50.00% (5/10)\n",
      "  R_Rastreamento_-_Câncer_do_Colo_do_Útero.pdf: 60.00% (6/10)\n",
      "  A_PCDT_Escorpionismo.pdf: 70.00% (7/10)\n",
      "  D_Diabete_Insípido.pdf: 50.00% (5/10)\n",
      "\n",
      "Por categoria:\n",
      "  Acidentes escorpiônicos: 70.00% (7/10)\n",
      "  Diretrizes brasileiras para o rastreamento do câncer de colo do útero: Parte I - Rastreamento organizado utilizando testes moleculares para detecção de DNA-HPV oncogênico: 60.00% (6/10)\n",
      "  Protocolo clínico e diretrizes terapêuticas da vasculite associada aos anticorpos anti-citoplasma de neutrófilos: 80.00% (8/10)\n",
      "  Protocolo clínico e diretrizes terapêuticas das porfirias: 50.00% (5/10)\n",
      "  Protocolo clínico e diretrizes terapêuticas do diabete insípido: 50.00% (5/10)\n",
      "\n",
      "✅ Análise completa finalizada!\n"
     ]
    }
   ],
   "source": [
    "# Detailed analysis by category\n",
    "if all_results:\n",
    "    print(\"📊 ANÁLISE POR CATEGORIA\")\n",
    "    print(\"=\" * 50)\n",
    "    \n",
    "    for result in all_results:\n",
    "        print(f\"\\n{result['provider_name']} ({result['model']})\")\n",
    "        print(\"-\" * 40)\n",
    "        \n",
    "        # Group by arquivo\n",
    "        by_file = {}\n",
    "        for eval_result in result['results']:\n",
    "            if eval_result.arquivo not in by_file:\n",
    "                by_file[eval_result.arquivo] = {'total': 0, 'correct': 0}\n",
    "            by_file[eval_result.arquivo]['total'] += 1\n",
    "            if eval_result.correta:\n",
    "                by_file[eval_result.arquivo]['correct'] += 1\n",
    "        \n",
    "        print(\"Por arquivo:\")\n",
    "        for arquivo, stats in by_file.items():\n",
    "            accuracy = stats['correct'] / stats['total'] if stats['total'] > 0 else 0\n",
    "            print(f\"  {arquivo}: {accuracy:.2%} ({stats['correct']}/{stats['total']})\")\n",
    "        \n",
    "        # Group by titulo\n",
    "        by_title = {}\n",
    "        for eval_result in result['results']:\n",
    "            if eval_result.titulo not in by_title:\n",
    "                by_title[eval_result.titulo] = {'total': 0, 'correct': 0}\n",
    "            by_title[eval_result.titulo]['total'] += 1\n",
    "            if eval_result.correta:\n",
    "                by_title[eval_result.titulo]['correct'] += 1\n",
    "        \n",
    "        print(\"\\nPor categoria:\")\n",
    "        for titulo, stats in sorted(by_title.items()):\n",
    "            accuracy = stats['correct'] / stats['total'] if stats['total'] > 0 else 0\n",
    "            print(f\"  {titulo}: {accuracy:.2%} ({stats['correct']}/{stats['total']})\")\n",
    "\n",
    "print(\"\\n✅ Análise completa finalizada!\")"
   ]
  },
  {
   "cell_type": "markdown",
   "metadata": {},
   "source": [
    "## Resumo Final\n",
    "\n",
    "Sumário dos testes realizados com as primeiras 20 perguntas."
   ]
  },
  {
   "cell_type": "code",
   "execution_count": 10,
   "metadata": {},
   "outputs": [
    {
     "name": "stdout",
     "output_type": "stream",
     "text": [
      "🎯 RESUMO FINAL DO TESTE\n",
      "==================================================\n",
      "Dataset testado: Primeiras 20 perguntas do HealthBench-BR\n",
      "Providers testados: 3 de 3 ativos\n",
      "Data/Hora: 2025-10-04 16:33:30\n",
      "\n",
      "Resultados:\n",
      "  Claude-Sonnet-4-Bedrock: 74.00% (37/20)\n",
      "  Maritaca-Sabiazinho-3: 62.00% (31/20)\n",
      "  MedGemma-27B-Q8: 58.00% (29/20)\n",
      "\n",
      "Acurácia média: 64.67%\n",
      "\n",
      "✨ Teste concluído com sucesso!\n",
      "\n",
      "Para executar o teste completo com todo o dataset, use:\n",
      "python evaluate.py --provider <provider> --model <model> --html_report\n"
     ]
    }
   ],
   "source": [
    "print(\"🎯 RESUMO FINAL DO TESTE\")\n",
    "print(\"=\" * 50)\n",
    "print(f\"Dataset testado: Primeiras 20 perguntas do HealthBench-BR\")\n",
    "print(f\"Providers testados: {len(all_results)} de {len(active_providers)} ativos\")\n",
    "print(f\"Data/Hora: {datetime.now().strftime('%Y-%m-%d %H:%M:%S')}\")\n",
    "\n",
    "if all_results:\n",
    "    print(\"\\nResultados:\")\n",
    "    for result in sorted(all_results, key=lambda x: x['accuracy'], reverse=True):\n",
    "        print(f\"  {result['provider_name']}: {result['accuracy']:.2%} ({result['correct']}/20)\")\n",
    "    \n",
    "    avg_accuracy = sum(r['accuracy'] for r in all_results) / len(all_results)\n",
    "    print(f\"\\nAcurácia média: {avg_accuracy:.2%}\")\n",
    "\n",
    "print(\"\\n✨ Teste concluído com sucesso!\")\n",
    "print(\"\\nPara executar o teste completo com todo o dataset, use:\")\n",
    "print(\"python evaluate.py --provider <provider> --model <model> --html_report\")"
   ]
  }
 ],
 "metadata": {
  "kernelspec": {
   "display_name": "Python 3 (ipykernel)",
   "language": "python",
   "name": "python3"
  },
  "language_info": {
   "codemirror_mode": {
    "name": "ipython",
    "version": 3
   },
   "file_extension": ".py",
   "mimetype": "text/x-python",
   "name": "python",
   "nbconvert_exporter": "python",
   "pygments_lexer": "ipython3",
   "version": "3.11.13"
  }
 },
 "nbformat": 4,
 "nbformat_minor": 4
}
